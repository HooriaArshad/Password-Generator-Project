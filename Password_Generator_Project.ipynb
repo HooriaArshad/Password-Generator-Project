{
  "nbformat": 4,
  "nbformat_minor": 0,
  "metadata": {
    "colab": {
      "provenance": [],
      "authorship_tag": "ABX9TyPknDC/oZdyfgE8udDgyN35",
      "include_colab_link": true
    },
    "kernelspec": {
      "name": "python3",
      "display_name": "Python 3"
    },
    "language_info": {
      "name": "python"
    }
  },
  "cells": [
    {
      "cell_type": "markdown",
      "metadata": {
        "id": "view-in-github",
        "colab_type": "text"
      },
      "source": [
        "<a href=\"https://colab.research.google.com/github/HooriaArshad/Password-Generator-Project/blob/main/Password_Generator_Project.ipynb\" target=\"_parent\"><img src=\"https://colab.research.google.com/assets/colab-badge.svg\" alt=\"Open In Colab\"/></a>"
      ]
    },
    {
      "cell_type": "code",
      "execution_count": 1,
      "metadata": {
        "colab": {
          "base_uri": "https://localhost:8080/"
        },
        "id": "8xMBuEoSLnTw",
        "outputId": "4b522882-db1f-4d44-e74d-f82eb511ecd3"
      },
      "outputs": [
        {
          "output_type": "stream",
          "name": "stdout",
          "text": [
            "Password length: 6\n",
            "Password: tDQJ,k\n"
          ]
        }
      ],
      "source": [
        "import random, string\n",
        "\n",
        "chars = string.ascii_letters + string.digits + string.punctuation\n",
        "password = ''.join(random.choices(chars, k=int(input(\"Password length: \"))))\n",
        "print(\"Password:\", password)\n"
      ]
    }
  ]
}